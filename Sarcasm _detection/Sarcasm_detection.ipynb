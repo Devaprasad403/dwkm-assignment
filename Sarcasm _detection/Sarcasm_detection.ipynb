{
  "cells": [
    {
      "cell_type": "code",
      "execution_count": 3,
      "metadata": {},
      "outputs": [
        {
          "ename": "ModuleNotFoundError",
          "evalue": "No module named 'twint'",
          "output_type": "error",
          "traceback": [
            "\u001b[1;31m---------------------------------------------------------------------------\u001b[0m",
            "\u001b[1;31mModuleNotFoundError\u001b[0m                       Traceback (most recent call last)",
            "Cell \u001b[1;32mIn[3], line 4\u001b[0m\n\u001b[0;32m      1\u001b[0m \u001b[39mimport\u001b[39;00m \u001b[39mnest_asyncio\u001b[39;00m\n\u001b[0;32m      2\u001b[0m nest_asyncio\u001b[39m.\u001b[39mapply()\n\u001b[1;32m----> 4\u001b[0m \u001b[39mimport\u001b[39;00m \u001b[39mtwint\u001b[39;00m\n\u001b[0;32m      6\u001b[0m c \u001b[39m=\u001b[39m twint\u001b[39m.\u001b[39mConfig()\n\u001b[0;32m      8\u001b[0m c\u001b[39m.\u001b[39mSearch \u001b[39m=\u001b[39m [\u001b[39m'\u001b[39m\u001b[39m#jamescharles\u001b[39m\u001b[39m'\u001b[39m]\n",
            "\u001b[1;31mModuleNotFoundError\u001b[0m: No module named 'twint'"
          ]
        }
      ],
      "source": [
        "import nest_asyncio\n",
        "nest_asyncio.apply()\n",
        "\n",
        "import twint\n",
        "\n",
        "c = twint.Config()\n",
        "\n",
        "c.Search = ['#jamescharles']\n",
        "c.Limit = 50000\n",
        "c.Store_csv = True\n",
        "c.Since = '2019-01-01'\n",
        "c.Output = \"jamescharles.csv\"\n",
        "\n",
        "twint.run.Search(c)"
      ]
    }
  ],
  "metadata": {
    "colab": {
      "authorship_tag": "ABX9TyNEwUMZ/9f6mneMRgYgcSlj",
      "collapsed_sections": [],
      "include_colab_link": true,
      "name": "Market_Basket_Analysis_notebook.ipynb",
      "provenance": []
    },
    "kernelspec": {
      "display_name": "Python 3",
      "language": "python",
      "name": "python3"
    },
    "language_info": {
      "codemirror_mode": {
        "name": "ipython",
        "version": 3
      },
      "file_extension": ".py",
      "mimetype": "text/x-python",
      "name": "python",
      "nbconvert_exporter": "python",
      "pygments_lexer": "ipython3",
      "version": "3.10.1 (tags/v3.10.1:2cd268a, Dec  6 2021, 19:10:37) [MSC v.1929 64 bit (AMD64)]"
    },
    "vscode": {
      "interpreter": {
        "hash": "52634da84371cba311ea128a5ea7cdc41ff074b781779e754b270ff9f8153cee"
      }
    }
  },
  "nbformat": 4,
  "nbformat_minor": 0
}
